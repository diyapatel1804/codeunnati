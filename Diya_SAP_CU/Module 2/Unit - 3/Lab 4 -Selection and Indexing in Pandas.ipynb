{
 "cells": [
  {
   "cell_type": "markdown",
   "id": "e0b65b2e",
   "metadata": {},
   "source": [
    "# Lab 4 -Selection and Indexing in Pandas"
   ]
  },
  {
   "cell_type": "markdown",
   "id": "9f782710",
   "metadata": {},
   "source": [
    "# Program 1 - Indexing a Data frame using indexing operator [] :"
   ]
  },
  {
   "cell_type": "code",
   "execution_count": 1,
   "id": "ee9f8e75",
   "metadata": {},
   "outputs": [
    {
     "name": "stdout",
     "output_type": "stream",
     "text": [
      "Name\n",
      "Avery Bradley    25.0\n",
      "Jae Crowder      25.0\n",
      "John Holland     27.0\n",
      "R.J. Hunter      22.0\n",
      "Jonas Jerebko    29.0\n",
      "                 ... \n",
      "Shelvin Mack     26.0\n",
      "Raul Neto        24.0\n",
      "Tibor Pleiss     26.0\n",
      "Jeff Withey      26.0\n",
      "NaN               NaN\n",
      "Name: Age, Length: 458, dtype: float64\n"
     ]
    }
   ],
   "source": [
    "# importing pandas package\n",
    "import pandas as pd\n",
    "\n",
    "# making data frame from csv file\n",
    "data = pd.read_csv(\"nba.csv\", index_col =\"Name\")\n",
    "\n",
    "# retrieving columns by indexing operator\n",
    "first = data[\"Age\"]\n",
    "\n",
    "print(first)"
   ]
  },
  {
   "cell_type": "markdown",
   "id": "0cfef2bf",
   "metadata": {},
   "source": [
    "# Program 2 - Indexing a DataFrame using .loc[ ] :"
   ]
  },
  {
   "cell_type": "code",
   "execution_count": 2,
   "id": "49a77a44",
   "metadata": {},
   "outputs": [
    {
     "name": "stdout",
     "output_type": "stream",
     "text": [
      "Team        Boston Celtics\n",
      "Number                 0.0\n",
      "Position                PG\n",
      "Age                   25.0\n",
      "Height                 6-2\n",
      "Weight               180.0\n",
      "College              Texas\n",
      "Salary           7730337.0\n",
      "Name: Avery Bradley, dtype: object \n",
      "\n",
      "\n",
      " Team        Boston Celtics\n",
      "Number                28.0\n",
      "Position                SG\n",
      "Age                   22.0\n",
      "Height                 6-5\n",
      "Weight               185.0\n",
      "College      Georgia State\n",
      "Salary           1148640.0\n",
      "Name: R.J. Hunter, dtype: object\n"
     ]
    }
   ],
   "source": [
    "# importing pandas package\n",
    "import pandas as pd\n",
    "\n",
    "# making data frame from csv file\n",
    "data = pd.read_csv(\"nba.csv\", index_col =\"Name\")\n",
    "\n",
    "# retrieving row by loc method\n",
    "first = data.loc[\"Avery Bradley\"]\n",
    "second = data.loc[\"R.J. Hunter\"]\n",
    "\n",
    "print(first, \"\\n\\n\\n\", second)"
   ]
  },
  {
   "cell_type": "markdown",
   "id": "18c9fd95",
   "metadata": {},
   "source": [
    "# Program 3 - Indexing a DataFrame using .iloc[ ] :¶"
   ]
  },
  {
   "cell_type": "code",
   "execution_count": 3,
   "id": "6aefb05a",
   "metadata": {},
   "outputs": [
    {
     "name": "stdout",
     "output_type": "stream",
     "text": [
      "Team        Boston Celtics\n",
      "Number                28.0\n",
      "Position                SG\n",
      "Age                   22.0\n",
      "Height                 6-5\n",
      "Weight               185.0\n",
      "College      Georgia State\n",
      "Salary           1148640.0\n",
      "Name: R.J. Hunter, dtype: object\n"
     ]
    }
   ],
   "source": [
    "import pandas as pd\n",
    "\n",
    "# making data frame from csv file\n",
    "data = pd.read_csv(\"nba.csv\", index_col =\"Name\")\n",
    "\n",
    "# retrieving rows by iloc method\n",
    "row2 = data.iloc[3]\n",
    "\n",
    "print(row2)"
   ]
  },
  {
   "cell_type": "code",
   "execution_count": null,
   "id": "dbe81295",
   "metadata": {},
   "outputs": [],
   "source": []
  }
 ],
 "metadata": {
  "kernelspec": {
   "display_name": "Python 3 (ipykernel)",
   "language": "python",
   "name": "python3"
  },
  "language_info": {
   "codemirror_mode": {
    "name": "ipython",
    "version": 3
   },
   "file_extension": ".py",
   "mimetype": "text/x-python",
   "name": "python",
   "nbconvert_exporter": "python",
   "pygments_lexer": "ipython3",
   "version": "3.9.12"
  }
 },
 "nbformat": 4,
 "nbformat_minor": 5
}
