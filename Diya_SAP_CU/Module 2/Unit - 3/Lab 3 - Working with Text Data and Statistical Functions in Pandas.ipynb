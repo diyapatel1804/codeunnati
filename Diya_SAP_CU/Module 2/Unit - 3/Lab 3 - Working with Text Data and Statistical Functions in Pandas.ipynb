{
 "cells": [
  {
   "cell_type": "markdown",
   "id": "96cec1db",
   "metadata": {},
   "source": [
    "# Lab 3 - Working with Text Data and Statistical Functions in Pandas"
   ]
  },
  {
   "cell_type": "markdown",
   "id": "48c34f97",
   "metadata": {},
   "source": [
    "# Program 1 - Working with Text Data"
   ]
  },
  {
   "cell_type": "code",
   "execution_count": 1,
   "id": "eedb49e2",
   "metadata": {},
   "outputs": [
    {
     "name": "stdout",
     "output_type": "stream",
     "text": [
      "0             tom\n",
      "1    william rick\n",
      "2            john\n",
      "3         alber@t\n",
      "4             NaN\n",
      "5            1234\n",
      "6      stevesmith\n",
      "dtype: object\n"
     ]
    }
   ],
   "source": [
    "import pandas as pd\n",
    "import numpy as np\n",
    "s = pd.Series(['Tom', 'William Rick', 'John', 'Alber@t', np.nan, '1234', 'SteveSmith'])\n",
    "print (s. str.lower())"
   ]
  },
  {
   "cell_type": "code",
   "execution_count": 2,
   "id": "ef6306f6",
   "metadata": {},
   "outputs": [
    {
     "name": "stdout",
     "output_type": "stream",
     "text": [
      "0             TOM\n",
      "1    WILLIAM RICK\n",
      "2            JOHN\n",
      "3         ALBER@T\n",
      "4             NaN\n",
      "5            1234\n",
      "6      STEVESMITH\n",
      "dtype: object\n"
     ]
    }
   ],
   "source": [
    "import pandas as pd\n",
    "import numpy as np\n",
    "s = pd.Series(['Tom', 'William Rick', 'John', 'Alber@t', np.nan, '1234', 'SteveSmith'])\n",
    "print (s. str.upper())"
   ]
  },
  {
   "cell_type": "code",
   "execution_count": 3,
   "id": "76ce88ec",
   "metadata": {},
   "outputs": [
    {
     "name": "stdout",
     "output_type": "stream",
     "text": [
      "Number of Elements in Series: 5\n"
     ]
    }
   ],
   "source": [
    "import pandas as pd\n",
    "\n",
    "data = [10, 20, 30, 40, 50]\n",
    "series = pd.Series(data)\n",
    "\n",
    "# Get the number of elements in the Series\n",
    "num_elements = len(series)\n",
    "print(\"Number of Elements in Series:\", num_elements)"
   ]
  },
  {
   "cell_type": "code",
   "execution_count": 4,
   "id": "c01c7894",
   "metadata": {},
   "outputs": [
    {
     "name": "stdout",
     "output_type": "stream",
     "text": [
      "      Name  Age  Name_Is_Upper\n",
      "0    Alice   25          False\n",
      "1      BOB   30           True\n",
      "2  Charlie   22          False\n",
      "3    DAVID   28           True\n"
     ]
    }
   ],
   "source": [
    "import pandas as pd\n",
    "\n",
    "data = {'Name': ['Alice', 'BOB', 'Charlie', 'DAVID'],\n",
    "        'Age': [25, 30, 22, 28]}\n",
    "df = pd.DataFrame(data)\n",
    "\n",
    "# Check if each character in 'Name' column is uppercase\n",
    "df['Name_Is_Upper'] = df['Name'].str.isupper()\n",
    "\n",
    "print(df)"
   ]
  },
  {
   "cell_type": "code",
   "execution_count": 5,
   "id": "a381e768",
   "metadata": {},
   "outputs": [
    {
     "name": "stdout",
     "output_type": "stream",
     "text": [
      "    ID Value  ID_Is_Numeric  Value_Is_Numeric\n",
      "0  123    42           True              True\n",
      "1  ABC   XYZ          False             False\n",
      "2  456   101           True              True\n",
      "3  789   246           True              True\n"
     ]
    }
   ],
   "source": [
    "data = {'ID': ['123', 'ABC', '456', '789'],\n",
    "        'Value': ['42', 'XYZ', '101', '246']}\n",
    "df = pd.DataFrame(data)\n",
    "\n",
    "# Check if each character in 'ID' and 'Value' columns is numeric\n",
    "df['ID_Is_Numeric'] = df['ID'].str.isnumeric()\n",
    "df['Value_Is_Numeric'] = df['Value'].str.isnumeric()\n",
    "\n",
    "print(df)"
   ]
  },
  {
   "cell_type": "code",
   "execution_count": 6,
   "id": "c96d00ef",
   "metadata": {},
   "outputs": [
    {
     "name": "stdout",
     "output_type": "stream",
     "text": [
      "      Name  Age  Name_Is_Lower\n",
      "0    alice   25           True\n",
      "1      Bob   30          False\n",
      "2  charlie   22           True\n",
      "3    david   28           True\n"
     ]
    }
   ],
   "source": [
    "data = {'Name': ['alice', 'Bob', 'charlie', 'david'],\n",
    "        'Age': [25, 30, 22, 28]}\n",
    "df = pd.DataFrame(data)\n",
    "\n",
    "# Check if each character in 'Name' column is lowercase\n",
    "df['Name_Is_Lower'] = df['Name'].str.islower()\n",
    "\n",
    "print(df)"
   ]
  },
  {
   "cell_type": "markdown",
   "id": "40683312",
   "metadata": {},
   "source": [
    "# Program 2 - Statistical Functions"
   ]
  },
  {
   "cell_type": "code",
   "execution_count": 11,
   "id": "c9c61e36",
   "metadata": {},
   "outputs": [
    {
     "name": "stdout",
     "output_type": "stream",
     "text": [
      "DataFrame = \n",
      "    Maths  Science  English\n",
      "0     90       92       95\n",
      "1     85       87       94\n",
      "2     98       59       84\n",
      "3     80       64       75\n",
      "4     55       87       67\n",
      "5     78       96       65\n",
      "\n",
      "Sum = \n",
      " Maths      486\n",
      "Science    485\n",
      "English    480\n",
      "dtype: int64\n"
     ]
    }
   ],
   "source": [
    "import pandas as pd\n",
    "# Dataset\n",
    "data = {\n",
    "'Maths': [90, 85, 98, 80, 55, 78],\n",
    "'Science': [92, 87, 59, 64, 87, 96],\n",
    " 'English': [95, 94, 84, 75, 67, 65]\n",
    "}\n",
    "# DataFrame\n",
    "df = pd.DataFrame(data)\n",
    "# Display the DataFrame\n",
    "print(\"DataFrame = \\n\",df)\n",
    "# Display the Sum of Marks in each column \n",
    "print(\"\\nSum = \\n\",df.sum())"
   ]
  },
  {
   "cell_type": "code",
   "execution_count": 8,
   "id": "3226ef7f",
   "metadata": {},
   "outputs": [
    {
     "name": "stdout",
     "output_type": "stream",
     "text": [
      "DataFrame = \n",
      "    Maths  Science  English\n",
      "0   90.0     92.0     95.0\n",
      "1   85.0     87.0      NaN\n",
      "2   98.0     59.0     84.0\n",
      "3    NaN      NaN     75.0\n",
      "4   55.0      NaN     67.0\n",
      "5   78.0     96.0      NaN\n",
      "\n",
      "Count of non-empty values = \n",
      " Maths      5\n",
      "Science    4\n",
      "English    4\n",
      "dtype: int64\n"
     ]
    }
   ],
   "source": [
    "import pandas as pd\n",
    "# Dataset\n",
    "data = {\n",
    "'Maths': [90, 85, 98, None, 55, 78],\n",
    "'Science': [92, 87, 59, None, None, 96],\n",
    "'English': [95, None, 84, 75, 67, None]\n",
    "}\n",
    "# DataFrame\n",
    "df = pd.DataFrame(data)\n",
    "# Display the DataFrame\n",
    "print(\"DataFrame = \\n\", df)\n",
    "# Display the Count of non-empty values in each column\n",
    "print(\"\\nCount of non-empty values = \\n\", df.count())"
   ]
  },
  {
   "cell_type": "code",
   "execution_count": 9,
   "id": "74360cb4",
   "metadata": {},
   "outputs": [
    {
     "name": "stdout",
     "output_type": "stream",
     "text": [
      "DataFrame = \n",
      "    Maths  Science  English\n",
      "0     90       92       95\n",
      "1     85       87       94\n",
      "2     98       59       84\n",
      "3     80       64       75\n",
      "4     55       87       67\n",
      "5     78       96       65\n",
      "\n",
      "Maximum Marks = \n",
      " Maths      98\n",
      "Science    96\n",
      "English    95\n",
      "dtype: int64\n"
     ]
    }
   ],
   "source": [
    "import pandas as pd\n",
    "# Dataset\n",
    "data = { 'Maths': [90, 85, 98, 80, 55, 78],\n",
    "'Science': [92, 87, 59, 64, 87, 96],\n",
    "'English': [95, 94, 84, 75, 67, 65]\n",
    "}\n",
    "#DataFrame\n",
    "df = pd.DataFrame(data)\n",
    "# Display the DataFrame \n",
    "print(\"DataFrame = \\n\",df)\n",
    "# Display the Maximum of Marks in each column \n",
    "print(\"\\nMaximum Marks = \\n\", df.max())"
   ]
  },
  {
   "cell_type": "code",
   "execution_count": 10,
   "id": "27e11565",
   "metadata": {},
   "outputs": [
    {
     "name": "stdout",
     "output_type": "stream",
     "text": [
      "DataFrame = \n",
      "    Maths  Science  English\n",
      "0     90       92       95\n",
      "1     85       87       94\n",
      "2     98       59       84\n",
      "3     80       64       75\n",
      "4     55       87       67\n",
      "5     78       96       65\n",
      "\n",
      "Median = \n",
      " Maths      82.5\n",
      "Science    87.0\n",
      "English    79.5\n",
      "dtype: float64\n"
     ]
    }
   ],
   "source": [
    "import pandas as pd\n",
    "# Dataset\n",
    "data = {\n",
    "'Maths' : [90, 85, 98, 80, 55, 78],\n",
    "'Science': [92, 87, 59, 64, 87, 96], 'English': [95, 94, 84, 75, 67, 65]\n",
    "}\n",
    "# DataFrame\n",
    "df = pd.DataFrame(data)\n",
    "# Display the DataFrame\n",
    "print(\"DataFrame = \\n\", df)\n",
    "# Display the Median of Marks in each column \n",
    "print(\"\\nMedian = \\n\",df.median())"
   ]
  }
 ],
 "metadata": {
  "kernelspec": {
   "display_name": "Python 3 (ipykernel)",
   "language": "python",
   "name": "python3"
  },
  "language_info": {
   "codemirror_mode": {
    "name": "ipython",
    "version": 3
   },
   "file_extension": ".py",
   "mimetype": "text/x-python",
   "name": "python",
   "nbconvert_exporter": "python",
   "pygments_lexer": "ipython3",
   "version": "3.9.12"
  }
 },
 "nbformat": 4,
 "nbformat_minor": 5
}
