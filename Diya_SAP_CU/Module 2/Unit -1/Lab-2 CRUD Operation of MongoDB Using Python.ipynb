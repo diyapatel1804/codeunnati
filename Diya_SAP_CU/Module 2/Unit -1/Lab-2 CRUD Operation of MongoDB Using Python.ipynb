{
 "cells": [
  {
   "cell_type": "markdown",
   "id": "436ec353",
   "metadata": {},
   "source": [
    "# Lab-2 CRUD Operation of MongoDB Using Python"
   ]
  },
  {
   "cell_type": "code",
   "execution_count": 2,
   "id": "82653111",
   "metadata": {},
   "outputs": [],
   "source": [
    "import pymongo\n"
   ]
  },
  {
   "cell_type": "code",
   "execution_count": 8,
   "id": "432902d4",
   "metadata": {},
   "outputs": [],
   "source": [
    "Myclient = pymongo.MongoClient(\"mongodb://localhost:27017/\")"
   ]
  },
  {
   "cell_type": "markdown",
   "id": "da23f61d",
   "metadata": {},
   "source": [
    "# Creating new database and collection in MongoDB"
   ]
  },
  {
   "cell_type": "code",
   "execution_count": 9,
   "id": "89ab0493",
   "metadata": {},
   "outputs": [],
   "source": [
    "infosys_db=Myclient[\"infosys_db\"]\n"
   ]
  },
  {
   "cell_type": "code",
   "execution_count": 10,
   "id": "98ba62bb",
   "metadata": {},
   "outputs": [],
   "source": [
    "\n",
    "emp_coll=infosys_db['emp_coll']"
   ]
  },
  {
   "cell_type": "markdown",
   "id": "e5513449",
   "metadata": {},
   "source": [
    "# However,the database and the collection are not created until you add them. lets fill them with data"
   ]
  },
  {
   "cell_type": "code",
   "execution_count": 11,
   "id": "74be7cd4",
   "metadata": {},
   "outputs": [],
   "source": [
    "emp_data =[ {\n",
    "    \n",
    "    \"Name\":\"Aman\",\n",
    "    \"Age\" : 25 ,\n",
    "    \"State\":\"Gujarat\",\n",
    "    \"profile\":\"Developer\",\n",
    "    \"Salary\":55000,\n",
    "    \"Experience\":3,\n",
    "    \"Skills\":[\"PHP\",\"MySQL\"]\n",
    "}]"
   ]
  },
  {
   "cell_type": "code",
   "execution_count": null,
   "id": "e8240bb1",
   "metadata": {},
   "outputs": [],
   "source": [
    "emp=emp_coll.insert_many(emp_data)"
   ]
  },
  {
   "cell_type": "markdown",
   "id": "d95929ec",
   "metadata": {},
   "source": [
    "# List all collections inside infosys_db database"
   ]
  },
  {
   "cell_type": "code",
   "execution_count": null,
   "id": "78afb02d",
   "metadata": {},
   "outputs": [],
   "source": [
    "infosys_db.list_collection_names()"
   ]
  },
  {
   "cell_type": "code",
   "execution_count": null,
   "id": "61ee3879",
   "metadata": {},
   "outputs": [],
   "source": [
    "emp_coll=infosys_db['emp_coll']"
   ]
  },
  {
   "cell_type": "markdown",
   "id": "16080133",
   "metadata": {},
   "source": [
    "# Reading Documents"
   ]
  },
  {
   "cell_type": "code",
   "execution_count": null,
   "id": "2a59ca7b",
   "metadata": {},
   "outputs": [],
   "source": [
    "results=emp_coll"
   ]
  },
  {
   "cell_type": "markdown",
   "id": "b94575a2",
   "metadata": {},
   "source": [
    "# Deleting Database"
   ]
  },
  {
   "cell_type": "code",
   "execution_count": null,
   "id": "32f1521f",
   "metadata": {},
   "outputs": [],
   "source": [
    "Myclient.drop_database(\"rngpit_db\")     "
   ]
  },
  {
   "cell_type": "code",
   "execution_count": null,
   "id": "30fcc06e",
   "metadata": {},
   "outputs": [],
   "source": []
  },
  {
   "cell_type": "code",
   "execution_count": null,
   "id": "09041835",
   "metadata": {},
   "outputs": [],
   "source": []
  }
 ],
 "metadata": {
  "kernelspec": {
   "display_name": "Python 3 (ipykernel)",
   "language": "python",
   "name": "python3"
  },
  "language_info": {
   "codemirror_mode": {
    "name": "ipython",
    "version": 3
   },
   "file_extension": ".py",
   "mimetype": "text/x-python",
   "name": "python",
   "nbconvert_exporter": "python",
   "pygments_lexer": "ipython3",
   "version": "3.9.12"
  }
 },
 "nbformat": 4,
 "nbformat_minor": 5
}
