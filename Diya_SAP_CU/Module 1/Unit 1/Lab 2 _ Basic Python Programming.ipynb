{
 "cells": [
  {
   "cell_type": "markdown",
   "id": "8e0b6701",
   "metadata": {},
   "source": [
    "# Lab 2 - Perform Basic Python Operation\n",
    "\n",
    "  We will cover following topics\n",
    "  \n",
    "    Python variables.\n",
    "    Python data structure"
   ]
  },
  {
   "cell_type": "code",
   "execution_count": 3,
   "id": "855d0853",
   "metadata": {},
   "outputs": [
    {
     "name": "stdout",
     "output_type": "stream",
     "text": [
      "I am Diya Patel\n"
     ]
    }
   ],
   "source": [
    "#print your name\n",
    "print(\"I am Diya Patel\")"
   ]
  },
  {
   "cell_type": "markdown",
   "id": "4583cba7",
   "metadata": {},
   "source": [
    "# Python Variables\n"
   ]
  },
  {
   "cell_type": "markdown",
   "id": "451a01c2",
   "metadata": {},
   "source": [
    "A variable is a container for a value.It can be assign a name you can use it to refer to it latter in the programme.\n",
    "\n"
   ]
  },
  {
   "cell_type": "code",
   "execution_count": 7,
   "id": "66aea2bb",
   "metadata": {},
   "outputs": [
    {
     "name": "stdout",
     "output_type": "stream",
     "text": [
      "100 1000.0 Diya\n"
     ]
    }
   ],
   "source": [
    "count =100            #Integer Assignment\n",
    "kilometers= 1000.0   #Float Assignment\n",
    "name ='Diya'         #string Assignment\n",
    "\n",
    "print(count,kilometers,name)"
   ]
  },
  {
   "cell_type": "code",
   "execution_count": 6,
   "id": "b599442e",
   "metadata": {},
   "outputs": [
    {
     "name": "stdout",
     "output_type": "stream",
     "text": [
      "1,2,Diya\n"
     ]
    }
   ],
   "source": [
    "a,b,c=1,2,\"Diya\"\n",
    "print(a,b,c,sep=',')"
   ]
  },
  {
   "cell_type": "code",
   "execution_count": 9,
   "id": "0c43ec0b",
   "metadata": {},
   "outputs": [],
   "source": [
    "a = \"Hello World\"\n",
    "b = 20\n",
    "c = 20.5\n",
    "d = [\"apple\",\"bannana\",\"cherry\"]\n",
    "e = [\"apple\",\"bannana\",\"cherry\"]\n",
    "f = range(6)\n",
    "g = {\"name\" :\" Diya\",\"age\" :20}\n",
    "h = {\"apple\",\"bannana\",\"cherry\"}\n",
    "                                             \n",
    "\n"
   ]
  },
  {
   "cell_type": "code",
   "execution_count": 10,
   "id": "fb360a15",
   "metadata": {},
   "outputs": [
    {
     "name": "stdout",
     "output_type": "stream",
     "text": [
      "<class 'str'>\n",
      "<class 'int'>\n",
      "<class 'float'>\n",
      "<class 'list'>\n",
      "<class 'list'>\n",
      "<class 'range'>\n",
      "<class 'dict'>\n",
      "<class 'set'>\n"
     ]
    }
   ],
   "source": [
    "print(type(a)) # it will return the datatype\n",
    "print(type(b))\n",
    "print(type(c))\n",
    "print(type(d))\n",
    "print(type(e))\n",
    "print(type(f))\n",
    "print(type(g))\n",
    "print(type(h))"
   ]
  },
  {
   "cell_type": "code",
   "execution_count": 4,
   "id": "3bb6ba01",
   "metadata": {},
   "outputs": [
    {
     "data": {
      "text/plain": [
       "float"
      ]
     },
     "execution_count": 4,
     "metadata": {},
     "output_type": "execute_result"
    }
   ],
   "source": [
    "num1=32.3e18\n",
    "type(num1)\n"
   ]
  },
  {
   "cell_type": "markdown",
   "id": "54de873b",
   "metadata": {},
   "source": [
    "# Python Strings"
   ]
  },
  {
   "cell_type": "markdown",
   "id": "16e361b7",
   "metadata": {},
   "source": [
    "String in Python are identified as a contiguous set of characters represented in the quotation marks. "
   ]
  },
  {
   "cell_type": "code",
   "execution_count": 26,
   "id": "183c6d02",
   "metadata": {},
   "outputs": [],
   "source": [
    "str1 = 'i am diya patel'"
   ]
  },
  {
   "cell_type": "code",
   "execution_count": 27,
   "id": "d980eac7",
   "metadata": {},
   "outputs": [
    {
     "name": "stdout",
     "output_type": "stream",
     "text": [
      "i am diya patel\n"
     ]
    }
   ],
   "source": [
    "print(str1)"
   ]
  },
  {
   "cell_type": "code",
   "execution_count": 28,
   "id": "fadf5afd",
   "metadata": {},
   "outputs": [
    {
     "name": "stdout",
     "output_type": "stream",
     "text": [
      "i\n"
     ]
    }
   ],
   "source": [
    "print(str1[0])"
   ]
  },
  {
   "cell_type": "code",
   "execution_count": 29,
   "id": "3d1d870b",
   "metadata": {},
   "outputs": [
    {
     "name": "stdout",
     "output_type": "stream",
     "text": [
      "i\n"
     ]
    }
   ],
   "source": [
    "print(str1[0])"
   ]
  },
  {
   "cell_type": "code",
   "execution_count": 35,
   "id": "811e3037",
   "metadata": {},
   "outputs": [
    {
     "name": "stdout",
     "output_type": "stream",
     "text": [
      "am \n"
     ]
    }
   ],
   "source": [
    "print(str1[2:5])"
   ]
  },
  {
   "cell_type": "code",
   "execution_count": 33,
   "id": "e865b052",
   "metadata": {},
   "outputs": [
    {
     "name": "stdout",
     "output_type": "stream",
     "text": [
      " diya patel\n"
     ]
    }
   ],
   "source": [
    "print(str1[4:15])"
   ]
  },
  {
   "cell_type": "code",
   "execution_count": 39,
   "id": "0e84a6cb",
   "metadata": {},
   "outputs": [
    {
     "name": "stdout",
     "output_type": "stream",
     "text": [
      "print string in default order of keywords:\n",
      "language python programming\n"
     ]
    }
   ],
   "source": [
    "#Default order\n",
    "String1=\"{2} {0} {1}\" .format('python','programming','language')\n",
    "print(\"print string in default order of keywords:\")\n",
    "print(String1)"
   ]
  },
  {
   "cell_type": "code",
   "execution_count": 43,
   "id": "8ce511ac",
   "metadata": {},
   "outputs": [
    {
     "name": "stdout",
     "output_type": "stream",
     "text": [
      "\n",
      "print string in order of keywords:\n",
      "python programming language\n"
     ]
    }
   ],
   "source": [
    "# keyword formatting\n",
    "String1 = \"{a} {e} {c}\" .format(a='python',e='programming',c='language') # {} {} {} order of thr string\n",
    "print(\"\\nprint string in order of keywords:\")\n",
    "print(String1)"
   ]
  },
  {
   "cell_type": "code",
   "execution_count": 45,
   "id": "298d8168",
   "metadata": {},
   "outputs": [
    {
     "name": "stdout",
     "output_type": "stream",
     "text": [
      "Diya is the student of my class\n"
     ]
    }
   ],
   "source": [
    "val='Diya'\n",
    "print(f\"{val} is the student of my class\")\n"
   ]
  },
  {
   "cell_type": "code",
   "execution_count": 47,
   "id": "46d4f975",
   "metadata": {},
   "outputs": [
    {
     "name": "stdout",
     "output_type": "stream",
     "text": [
      "hello,my name is(name)and i am (age) years old.\n"
     ]
    }
   ],
   "source": [
    "name='diya'\n",
    "age=20\n",
    "print(f\"hello,my name is(name)and i am (age) years old.\")"
   ]
  },
  {
   "cell_type": "code",
   "execution_count": 68,
   "id": "e749d72a",
   "metadata": {},
   "outputs": [
    {
     "name": "stdout",
     "output_type": "stream",
     "text": [
      "APPLE IS A KING OF FRUITS.\n",
      "apple is a king of fruits.\n",
      "Apple Is A King Of Fruits.\n",
      "Apple is a king of fruits.\n",
      "APPLE IS A KING OF FRUITS.\n",
      "False\n",
      "False\n",
      "False\n",
      "['apple', 'is', 'a', 'king', 'of', 'fruits.']\n",
      "apple is a king of fruits.\n"
     ]
    }
   ],
   "source": [
    "str1 = \"apple is a king of fruits.\"\n",
    "print(str1.upper())\n",
    "print(str1.lower())\n",
    "print(str1.title())\n",
    "print(str1.capitalize())\n",
    "print(str1.swapcase())\n",
    "print(str1.isalpha())\n",
    "print(str1.isdigit())\n",
    "print(str1.isupper())\n",
    "a=str1.split()\n",
    "print(a)\n",
    "\n",
    "b=\" \".join(a)\n",
    "print(b)"
   ]
  },
  {
   "cell_type": "markdown",
   "id": "4ee8b707",
   "metadata": {},
   "source": [
    "# Operators\n"
   ]
  },
  {
   "cell_type": "markdown",
   "id": "850dfcc0",
   "metadata": {},
   "source": [
    "arithmetic operators"
   ]
  },
  {
   "cell_type": "code",
   "execution_count": 54,
   "id": "a5db0e86",
   "metadata": {},
   "outputs": [
    {
     "data": {
      "text/plain": [
       "13"
      ]
     },
     "execution_count": 54,
     "metadata": {},
     "output_type": "execute_result"
    }
   ],
   "source": [
    "5 + 8\n"
   ]
  },
  {
   "cell_type": "code",
   "execution_count": 57,
   "id": "6ad8bc4b",
   "metadata": {},
   "outputs": [
    {
     "name": "stdout",
     "output_type": "stream",
     "text": [
      "5\n",
      "6\n"
     ]
    }
   ],
   "source": [
    "a=2\n",
    "a+=3\n",
    "print(a)\n",
    "\n",
    "b=2\n",
    "b*=3\n",
    "print(b)"
   ]
  },
  {
   "cell_type": "code",
   "execution_count": 60,
   "id": "864bc6ca",
   "metadata": {},
   "outputs": [
    {
     "name": "stdout",
     "output_type": "stream",
     "text": [
      "False\n",
      "True\n"
     ]
    }
   ],
   "source": [
    "a=1\n",
    "b=2\n",
    "print(a==b)\n",
    "\n",
    "a=1\n",
    "b=2\n",
    "print(a!=b)"
   ]
  },
  {
   "cell_type": "code",
   "execution_count": 61,
   "id": "c3879a19",
   "metadata": {},
   "outputs": [
    {
     "name": "stdout",
     "output_type": "stream",
     "text": [
      "True\n",
      "True\n"
     ]
    }
   ],
   "source": [
    "a=3\n",
    "print(a>2 and a<10)\n",
    "\n",
    "b=4\n",
    "print(b>2 and b<10)\n"
   ]
  },
  {
   "cell_type": "code",
   "execution_count": 71,
   "id": "1df42192",
   "metadata": {},
   "outputs": [
    {
     "data": {
      "text/plain": [
       "1.5"
      ]
     },
     "execution_count": 71,
     "metadata": {},
     "output_type": "execute_result"
    }
   ],
   "source": [
    "#  Division\n",
    "3/2\n"
   ]
  },
  {
   "cell_type": "code",
   "execution_count": 70,
   "id": "f650e3b0",
   "metadata": {},
   "outputs": [
    {
     "data": {
      "text/plain": [
       "2"
      ]
     },
     "execution_count": 70,
     "metadata": {},
     "output_type": "execute_result"
    }
   ],
   "source": [
    "# Floor Division\n",
    "10//4"
   ]
  },
  {
   "cell_type": "code",
   "execution_count": 72,
   "id": "e60d8085",
   "metadata": {},
   "outputs": [
    {
     "data": {
      "text/plain": [
       "8"
      ]
     },
     "execution_count": 72,
     "metadata": {},
     "output_type": "execute_result"
    }
   ],
   "source": [
    "# powers\n",
    "2**3\n"
   ]
  },
  {
   "cell_type": "code",
   "execution_count": 73,
   "id": "46b695c1",
   "metadata": {},
   "outputs": [
    {
     "data": {
      "text/plain": [
       "2.0"
      ]
     },
     "execution_count": 73,
     "metadata": {},
     "output_type": "execute_result"
    }
   ],
   "source": [
    "# can also do roots this way\n",
    "4**0.5"
   ]
  },
  {
   "cell_type": "code",
   "execution_count": 74,
   "id": "d4dfea9c",
   "metadata": {},
   "outputs": [
    {
     "data": {
      "text/plain": [
       "105"
      ]
     },
     "execution_count": 74,
     "metadata": {},
     "output_type": "execute_result"
    }
   ],
   "source": [
    "#order of operations followed in python\n",
    "2+10*10+3"
   ]
  },
  {
   "cell_type": "code",
   "execution_count": 75,
   "id": "cb1dde0f",
   "metadata": {},
   "outputs": [
    {
     "data": {
      "text/plain": [
       "156"
      ]
     },
     "execution_count": 75,
     "metadata": {},
     "output_type": "execute_result"
    }
   ],
   "source": [
    "#can use parentheses to specify orders\n",
    "(2+10) * (10+3)"
   ]
  },
  {
   "cell_type": "code",
   "execution_count": 77,
   "id": "1b8e5bf9",
   "metadata": {},
   "outputs": [
    {
     "name": "stdout",
     "output_type": "stream",
     "text": [
      "enter the value of x:18\n",
      "enter the value of y:12\n",
      "216\n"
     ]
    }
   ],
   "source": [
    "x=int(input(\"enter the value of x:\"))\n",
    "\n",
    "y=int(input(\"enter the value of y:\"))\n",
    "\n",
    "z=x*y\n",
    "print(z)\n",
    "\n"
   ]
  },
  {
   "cell_type": "markdown",
   "id": "5d02bf6d",
   "metadata": {},
   "source": [
    "# Python version check in notebook"
   ]
  },
  {
   "cell_type": "code",
   "execution_count": 78,
   "id": "fcfa4a39",
   "metadata": {},
   "outputs": [
    {
     "name": "stdout",
     "output_type": "stream",
     "text": [
      "3.9.12\n"
     ]
    }
   ],
   "source": [
    "from platform import python_version\n",
    "\n",
    "print(python_version())\n"
   ]
  },
  {
   "cell_type": "code",
   "execution_count": 84,
   "id": "95fd1a45",
   "metadata": {},
   "outputs": [
    {
     "name": "stdout",
     "output_type": "stream",
     "text": [
      "12\n",
      "<class 'int'>\n",
      "200.5\n",
      "<class 'float'>\n",
      "intel\n",
      "<class 'str'>\n",
      "True\n",
      "<class 'bool'>\n"
     ]
    }
   ],
   "source": [
    "var1=  12\n",
    "var2= 200.50\n",
    "var3= \"intel\"\n",
    "var4= True\n",
    "\n",
    "\n",
    "print(var1)\n",
    "print(type(var1))\n",
    "\n",
    "print(var2)\n",
    "print(type(var2))\n",
    "\n",
    "print(var3)\n",
    "print(type(var3))\n",
    "\n",
    "print(var4)\n",
    "print(type(var4))"
   ]
  },
  {
   "cell_type": "code",
   "execution_count": 90,
   "id": "f4318201",
   "metadata": {},
   "outputs": [
    {
     "name": "stdout",
     "output_type": "stream",
     "text": [
      "gujarat \n",
      "university\n",
      "gujarat university\n",
      "gujarat gujarat gujarat gujarat \n"
     ]
    }
   ],
   "source": [
    "s1=\"gujarat \"\n",
    "s2=\"university\"\n",
    "\n",
    "print(s1)\n",
    "print(s2)\n",
    "\n",
    "s3= s1 + s2\n",
    "print(s3)\n",
    "\n",
    "s4=s1*4\n",
    "print(s4)\n",
    "\n"
   ]
  },
  {
   "cell_type": "code",
   "execution_count": 92,
   "id": "0fd48da0",
   "metadata": {},
   "outputs": [
    {
     "name": "stdout",
     "output_type": "stream",
     "text": [
      "RNGPIT\n",
      "6\n"
     ]
    }
   ],
   "source": [
    "name = 'RNGPIT'\n",
    "\n",
    "print(name)\n",
    "print(len(name))\n"
   ]
  },
  {
   "cell_type": "code",
   "execution_count": 93,
   "id": "937a2310",
   "metadata": {},
   "outputs": [
    {
     "data": {
      "text/plain": [
       "'gujar'"
      ]
     },
     "execution_count": 93,
     "metadata": {},
     "output_type": "execute_result"
    }
   ],
   "source": [
    "s1[:5]"
   ]
  },
  {
   "cell_type": "code",
   "execution_count": 94,
   "id": "0e95512a",
   "metadata": {},
   "outputs": [
    {
     "data": {
      "text/plain": [
       "'university'"
      ]
     },
     "execution_count": 94,
     "metadata": {},
     "output_type": "execute_result"
    }
   ],
   "source": [
    "s2[:]"
   ]
  },
  {
   "cell_type": "code",
   "execution_count": 97,
   "id": "83b404ce",
   "metadata": {},
   "outputs": [
    {
     "data": {
      "text/plain": [
       "'gujarat u'"
      ]
     },
     "execution_count": 97,
     "metadata": {},
     "output_type": "execute_result"
    }
   ],
   "source": [
    "s3[:9]"
   ]
  },
  {
   "cell_type": "code",
   "execution_count": null,
   "id": "8a8c11b0",
   "metadata": {},
   "outputs": [],
   "source": []
  }
 ],
 "metadata": {
  "kernelspec": {
   "display_name": "Python 3 (ipykernel)",
   "language": "python",
   "name": "python3"
  },
  "language_info": {
   "codemirror_mode": {
    "name": "ipython",
    "version": 3
   },
   "file_extension": ".py",
   "mimetype": "text/x-python",
   "name": "python",
   "nbconvert_exporter": "python",
   "pygments_lexer": "ipython3",
   "version": "3.9.12"
  }
 },
 "nbformat": 4,
 "nbformat_minor": 5
}
