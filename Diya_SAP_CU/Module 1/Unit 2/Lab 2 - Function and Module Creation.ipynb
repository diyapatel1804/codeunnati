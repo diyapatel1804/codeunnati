{
 "cells": [
  {
   "cell_type": "markdown",
   "id": "dd67e7f9",
   "metadata": {},
   "source": [
    "# Lab 2 - Function and Module Creation\n"
   ]
  },
  {
   "cell_type": "markdown",
   "id": "2216369e",
   "metadata": {},
   "source": [
    "# Pass Statement"
   ]
  },
  {
   "cell_type": "code",
   "execution_count": 7,
   "id": "454f0f07",
   "metadata": {},
   "outputs": [],
   "source": [
    "a = 33\n",
    "b = 200\n",
    "if b>a:\n",
    "    pass"
   ]
  },
  {
   "cell_type": "code",
   "execution_count": 24,
   "id": "859a1b46",
   "metadata": {},
   "outputs": [
    {
     "name": "stdout",
     "output_type": "stream",
     "text": [
      "value is 10\n",
      "hello mr.s.c.bose good morning!\n"
     ]
    }
   ],
   "source": [
    "def show(n):\n",
    "    print(\"value is\",n)\n",
    "a=10\n",
    "show(a)\n",
    "\n",
    "def grettings(s):\n",
    "    print( f\"hello mr.{s} good morning!\")\n",
    "grettings(\"s.c.bose\")    "
   ]
  },
  {
   "cell_type": "code",
   "execution_count": 26,
   "id": "fc542e48",
   "metadata": {},
   "outputs": [
    {
     "data": {
      "text/plain": [
       "4"
      ]
     },
     "execution_count": 26,
     "metadata": {},
     "output_type": "execute_result"
    }
   ],
   "source": [
    "def add(n1,n2):\n",
    "    return n1+n2\n",
    "add(1,3)\n"
   ]
  },
  {
   "cell_type": "markdown",
   "id": "7614af39",
   "metadata": {},
   "source": [
    "# W.A.P to check number even or odd"
   ]
  },
  {
   "cell_type": "code",
   "execution_count": 30,
   "id": "d619075a",
   "metadata": {},
   "outputs": [
    {
     "name": "stdout",
     "output_type": "stream",
     "text": [
      "enter the number to check odd or even 18\n",
      "18 is even number\n"
     ]
    }
   ],
   "source": [
    "num = int(input(\"enter the number to check odd or even \"))\n",
    "\n",
    "def find_oddeven(num):\n",
    "    if (num % 2)== 0:\n",
    "        print('{} is even number'.format(num))\n",
    "    else:\n",
    "        print('{} is odd number'.format(num))\n",
    "find_oddeven(num)                \n",
    "            "
   ]
  },
  {
   "cell_type": "code",
   "execution_count": 37,
   "id": "0d019c2d",
   "metadata": {},
   "outputs": [
    {
     "name": "stdout",
     "output_type": "stream",
     "text": [
      "sum is 12, sub is 8 , & mul is 20\n"
     ]
    }
   ],
   "source": [
    "def result(a,b):\n",
    "    add = a+b\n",
    "    sub = a-b\n",
    "    mul = a*b\n",
    "    print(f\"sum is {add}, sub is {sub} , & mul is {mul}\")\n",
    "result(10,2)"
   ]
  },
  {
   "cell_type": "code",
   "execution_count": 41,
   "id": "070d65cc",
   "metadata": {},
   "outputs": [
    {
     "name": "stdout",
     "output_type": "stream",
     "text": [
      "enter the number: 18\n"
     ]
    }
   ],
   "source": [
    "num = input(\"enter the number: \")\n",
    "def sqr(num):\n",
    "    return num**2"
   ]
  },
  {
   "cell_type": "code",
   "execution_count": 42,
   "id": "ad9ac0f8",
   "metadata": {},
   "outputs": [],
   "source": [
    "def sqr(num):\n",
    "    return num**2"
   ]
  },
  {
   "cell_type": "code",
   "execution_count": 43,
   "id": "3f419ab0",
   "metadata": {},
   "outputs": [
    {
     "name": "stdout",
     "output_type": "stream",
     "text": [
      "36\n"
     ]
    }
   ],
   "source": [
    "print(sqr(6))\n"
   ]
  },
  {
   "cell_type": "markdown",
   "id": "7c37b8f5",
   "metadata": {},
   "source": [
    "Function creation using default arguments"
   ]
  },
  {
   "cell_type": "code",
   "execution_count": 44,
   "id": "e8869750",
   "metadata": {},
   "outputs": [],
   "source": [
    "def myfun(x , y=50):\n",
    "    print(\"x: \" , x)\n",
    "    print(\"y: \" , y)\n",
    "    "
   ]
  },
  {
   "cell_type": "code",
   "execution_count": 46,
   "id": "d278c102",
   "metadata": {},
   "outputs": [
    {
     "name": "stdout",
     "output_type": "stream",
     "text": [
      "x:  10\n",
      "y:  80\n"
     ]
    }
   ],
   "source": [
    "myfun(10,80)"
   ]
  },
  {
   "cell_type": "markdown",
   "id": "28ab1346",
   "metadata": {},
   "source": [
    "# Function with * args and ** kwargs"
   ]
  },
  {
   "cell_type": "code",
   "execution_count": 50,
   "id": "219426ee",
   "metadata": {},
   "outputs": [
    {
     "name": "stdout",
     "output_type": "stream",
     "text": [
      "the brilliant student is Shreya\n"
     ]
    }
   ],
   "source": [
    "def fun1(*Student):\n",
    "    print(\"the brilliant student is \" + Student[3])\n",
    "    \n",
    "fun1('Milan','Jemu','Diya','Shreya','Mayank')    "
   ]
  },
  {
   "cell_type": "code",
   "execution_count": 54,
   "id": "d57eb7b3",
   "metadata": {},
   "outputs": [
    {
     "name": "stdout",
     "output_type": "stream",
     "text": [
      "the brilliant student is Milan\n"
     ]
    }
   ],
   "source": [
    "def fun1(**Student):\n",
    "    print(\"the brilliant student is \" + Student['fname'])\n",
    "    \n",
    "fun1(fname = \"Milan\" , lname = \"patel\")    "
   ]
  },
  {
   "cell_type": "markdown",
   "id": "b5220962",
   "metadata": {},
   "source": [
    "# Lambda Function"
   ]
  },
  {
   "cell_type": "markdown",
   "id": "01d64485",
   "metadata": {},
   "source": [
    "lambda arg:exp\n",
    "\n",
    "A lambda function is small anonympus function     "
   ]
  },
  {
   "cell_type": "code",
   "execution_count": 58,
   "id": "6d7e340e",
   "metadata": {},
   "outputs": [
    {
     "name": "stdout",
     "output_type": "stream",
     "text": [
      "enter the year: 2004\n",
      "Leap Year\n"
     ]
    }
   ],
   "source": [
    "n = int(input(\"enter the year: \"))\n",
    "leap = lambda y:(y%4 == 0 and y%100 !=0) or y%400 ==0\n",
    "if leap(n):\n",
    "    print(\"Leap Year\")\n",
    "else:\n",
    "    print(\"Not Leap Year\")"
   ]
  },
  {
   "cell_type": "code",
   "execution_count": 59,
   "id": "45869494",
   "metadata": {},
   "outputs": [
    {
     "data": {
      "text/plain": [
       "15"
      ]
     },
     "execution_count": 59,
     "metadata": {},
     "output_type": "execute_result"
    }
   ],
   "source": [
    "x= lambda a:a+10\n",
    "x(5)"
   ]
  },
  {
   "cell_type": "markdown",
   "id": "9c620756",
   "metadata": {},
   "source": [
    "# Python Module and Packages"
   ]
  },
  {
   "cell_type": "code",
   "execution_count": 60,
   "id": "bd11de03",
   "metadata": {},
   "outputs": [
    {
     "name": "stdout",
     "output_type": "stream",
     "text": [
      "Defaulting to user installation because normal site-packages is not writeable\n",
      "Requirement already satisfied: numpy in c:\\programdata\\anaconda3\\lib\\site-packages (1.21.5)\n",
      "Note: you may need to restart the kernel to use updated packages.\n"
     ]
    }
   ],
   "source": [
    "pip install numpy"
   ]
  },
  {
   "cell_type": "code",
   "execution_count": 61,
   "id": "9ce56126",
   "metadata": {},
   "outputs": [],
   "source": [
    "# import platform\n",
    "import platform \n"
   ]
  },
  {
   "cell_type": "code",
   "execution_count": 62,
   "id": "424e1f5b",
   "metadata": {},
   "outputs": [
    {
     "data": {
      "text/plain": [
       "'Windows'"
      ]
     },
     "execution_count": 62,
     "metadata": {},
     "output_type": "execute_result"
    }
   ],
   "source": [
    "platform.system()"
   ]
  },
  {
   "cell_type": "code",
   "execution_count": 63,
   "id": "90809a16",
   "metadata": {},
   "outputs": [],
   "source": [
    "import math "
   ]
  },
  {
   "cell_type": "code",
   "execution_count": 64,
   "id": "c2fe2833",
   "metadata": {},
   "outputs": [
    {
     "data": {
      "text/plain": [
       "8"
      ]
     },
     "execution_count": 64,
     "metadata": {},
     "output_type": "execute_result"
    }
   ],
   "source": [
    "math.isqrt(64)"
   ]
  },
  {
   "cell_type": "code",
   "execution_count": 65,
   "id": "b038765b",
   "metadata": {},
   "outputs": [
    {
     "data": {
      "text/plain": [
       "16"
      ]
     },
     "execution_count": 65,
     "metadata": {},
     "output_type": "execute_result"
    }
   ],
   "source": [
    "pow(2,4)"
   ]
  },
  {
   "cell_type": "code",
   "execution_count": 66,
   "id": "ac6fe5c6",
   "metadata": {},
   "outputs": [
    {
     "data": {
      "text/plain": [
       "3.141592653589793"
      ]
     },
     "execution_count": 66,
     "metadata": {},
     "output_type": "execute_result"
    }
   ],
   "source": [
    "math.pi"
   ]
  },
  {
   "cell_type": "code",
   "execution_count": 67,
   "id": "c3418ea5",
   "metadata": {},
   "outputs": [
    {
     "data": {
      "text/plain": [
       "3628800"
      ]
     },
     "execution_count": 67,
     "metadata": {},
     "output_type": "execute_result"
    }
   ],
   "source": [
    "math.factorial(10)"
   ]
  },
  {
   "cell_type": "code",
   "execution_count": 68,
   "id": "cf590512",
   "metadata": {},
   "outputs": [
    {
     "data": {
      "text/plain": [
       "250"
      ]
     },
     "execution_count": 68,
     "metadata": {},
     "output_type": "execute_result"
    }
   ],
   "source": [
    "min(1000,250,500)"
   ]
  },
  {
   "cell_type": "code",
   "execution_count": 69,
   "id": "cc6f17bb",
   "metadata": {},
   "outputs": [
    {
     "data": {
      "text/plain": [
       "50000"
      ]
     },
     "execution_count": 69,
     "metadata": {},
     "output_type": "execute_result"
    }
   ],
   "source": [
    "max(900,500,50000)"
   ]
  },
  {
   "cell_type": "code",
   "execution_count": 70,
   "id": "ce4ecf8d",
   "metadata": {},
   "outputs": [
    {
     "data": {
      "text/plain": [
       "['__doc__',\n",
       " '__loader__',\n",
       " '__name__',\n",
       " '__package__',\n",
       " '__spec__',\n",
       " 'acos',\n",
       " 'acosh',\n",
       " 'asin',\n",
       " 'asinh',\n",
       " 'atan',\n",
       " 'atan2',\n",
       " 'atanh',\n",
       " 'ceil',\n",
       " 'comb',\n",
       " 'copysign',\n",
       " 'cos',\n",
       " 'cosh',\n",
       " 'degrees',\n",
       " 'dist',\n",
       " 'e',\n",
       " 'erf',\n",
       " 'erfc',\n",
       " 'exp',\n",
       " 'expm1',\n",
       " 'fabs',\n",
       " 'factorial',\n",
       " 'floor',\n",
       " 'fmod',\n",
       " 'frexp',\n",
       " 'fsum',\n",
       " 'gamma',\n",
       " 'gcd',\n",
       " 'hypot',\n",
       " 'inf',\n",
       " 'isclose',\n",
       " 'isfinite',\n",
       " 'isinf',\n",
       " 'isnan',\n",
       " 'isqrt',\n",
       " 'lcm',\n",
       " 'ldexp',\n",
       " 'lgamma',\n",
       " 'log',\n",
       " 'log10',\n",
       " 'log1p',\n",
       " 'log2',\n",
       " 'modf',\n",
       " 'nan',\n",
       " 'nextafter',\n",
       " 'perm',\n",
       " 'pi',\n",
       " 'pow',\n",
       " 'prod',\n",
       " 'radians',\n",
       " 'remainder',\n",
       " 'sin',\n",
       " 'sinh',\n",
       " 'sqrt',\n",
       " 'tan',\n",
       " 'tanh',\n",
       " 'tau',\n",
       " 'trunc',\n",
       " 'ulp']"
      ]
     },
     "execution_count": 70,
     "metadata": {},
     "output_type": "execute_result"
    }
   ],
   "source": [
    "dir(math)"
   ]
  },
  {
   "cell_type": "code",
   "execution_count": null,
   "id": "28e0f7c0",
   "metadata": {},
   "outputs": [],
   "source": []
  }
 ],
 "metadata": {
  "kernelspec": {
   "display_name": "Python 3 (ipykernel)",
   "language": "python",
   "name": "python3"
  },
  "language_info": {
   "codemirror_mode": {
    "name": "ipython",
    "version": 3
   },
   "file_extension": ".py",
   "mimetype": "text/x-python",
   "name": "python",
   "nbconvert_exporter": "python",
   "pygments_lexer": "ipython3",
   "version": "3.9.12"
  }
 },
 "nbformat": 4,
 "nbformat_minor": 5
}
