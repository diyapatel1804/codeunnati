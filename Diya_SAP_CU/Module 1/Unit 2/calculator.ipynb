{
 "cells": [
  {
   "cell_type": "markdown",
   "id": "75874c64",
   "metadata": {},
   "source": [
    "# calculator"
   ]
  },
  {
   "cell_type": "code",
   "execution_count": 2,
   "id": "23c624cf",
   "metadata": {},
   "outputs": [
    {
     "name": "stdout",
     "output_type": "stream",
     "text": [
      "enter a value of 1:2\n",
      "enter a value of 2:4\n",
      "addition is(c)\n",
      "substraction is(c)\n",
      "multiplication is(c)\n",
      "division is(c)\n"
     ]
    }
   ],
   "source": [
    "a=int(input(\"enter a value of 1:\"))\n",
    "b=int(input(\"enter a value of 2:\"))\n",
    "\n",
    "def add(a,b):\n",
    "    c=a+b\n",
    "    print(f\"addition is(c)\"),c\n",
    "    \n",
    "\n",
    "def sub(a,b):\n",
    "    c=a-b\n",
    "    print(f\"substraction is(c)\"),c\n",
    "    \n",
    "def mul(a,b):\n",
    "    c=a*b\n",
    "    print(f\"multiplication is(c)\"),c\n",
    "    \n",
    "def div(a,b):\n",
    "    c=a/b\n",
    "    print(f\"division is(c)\"),c\n",
    "    \n",
    "add(a,b)\n",
    "sub(a,b)\n",
    "mul(a,b)\n",
    "div(a,b)"
   ]
  },
  {
   "cell_type": "code",
   "execution_count": null,
   "id": "c7793882",
   "metadata": {},
   "outputs": [],
   "source": []
  }
 ],
 "metadata": {
  "kernelspec": {
   "display_name": "Python 3 (ipykernel)",
   "language": "python",
   "name": "python3"
  },
  "language_info": {
   "codemirror_mode": {
    "name": "ipython",
    "version": 3
   },
   "file_extension": ".py",
   "mimetype": "text/x-python",
   "name": "python",
   "nbconvert_exporter": "python",
   "pygments_lexer": "ipython3",
   "version": "3.9.12"
  }
 },
 "nbformat": 4,
 "nbformat_minor": 5
}
