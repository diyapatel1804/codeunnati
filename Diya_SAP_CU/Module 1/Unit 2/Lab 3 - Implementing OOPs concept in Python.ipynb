{
 "cells": [
  {
   "cell_type": "markdown",
   "id": "858576cb",
   "metadata": {},
   "source": [
    "# Lab 3 - Implementing OOPs concept in Python"
   ]
  },
  {
   "cell_type": "code",
   "execution_count": 34,
   "id": "d3c5eb44",
   "metadata": {},
   "outputs": [],
   "source": [
    "class Person:\n",
    "    def __init__(mysillyobject,name,age):\n",
    "        mysillyobject.name=name\n",
    "        mysillyobject.age=age\n",
    "    def myfunc(abc):\n",
    "            print (\"HELLO MY NAME IS\" +abc.name)\n",
    "    \n",
    "    "
   ]
  },
  {
   "cell_type": "code",
   "execution_count": 38,
   "id": "811a289b",
   "metadata": {},
   "outputs": [
    {
     "name": "stdout",
     "output_type": "stream",
     "text": [
      "HELLO MY NAME IS DIYA \n"
     ]
    }
   ],
   "source": [
    "p1=Person(\" DIYA \",30)\n",
    "p1.myfunc()"
   ]
  },
  {
   "cell_type": "markdown",
   "id": "aa987cea",
   "metadata": {},
   "source": [
    "# Simple code on inheritance"
   ]
  },
  {
   "cell_type": "code",
   "execution_count": 39,
   "id": "09f0c24e",
   "metadata": {},
   "outputs": [],
   "source": [
    "class Parent():\n",
    "    def first(self):\n",
    "        print(\"first function\")"
   ]
  },
  {
   "cell_type": "code",
   "execution_count": 49,
   "id": "dc06c1ea",
   "metadata": {},
   "outputs": [],
   "source": [
    "class Child(Parent):\n",
    "    def second(self):\n",
    "        print(\"second function\")"
   ]
  },
  {
   "cell_type": "code",
   "execution_count": 50,
   "id": "453a2a17",
   "metadata": {},
   "outputs": [
    {
     "name": "stdout",
     "output_type": "stream",
     "text": [
      "first function\n",
      "second function\n"
     ]
    }
   ],
   "source": [
    "    ob= Child()\n",
    "    ob.first()\n",
    "    ob.second()"
   ]
  },
  {
   "cell_type": "code",
   "execution_count": 64,
   "id": "162bc596",
   "metadata": {},
   "outputs": [],
   "source": [
    "class parent1:\n",
    "    def func1(self):\n",
    "        print(\"this is function 1\")\n",
    "class parent2:\n",
    "    def func2(self):\n",
    "        print(\"this is function 2\")\n",
    "class Child(parent1,parent2):\n",
    "    def func3(self):\n",
    "        print(\"this is function 3\")"
   ]
  },
  {
   "cell_type": "code",
   "execution_count": 65,
   "id": "e156561e",
   "metadata": {},
   "outputs": [
    {
     "name": "stdout",
     "output_type": "stream",
     "text": [
      "this is function 1\n",
      "this is function 2\n",
      "this is function 3\n"
     ]
    }
   ],
   "source": [
    "ob=Child()\n",
    "ob.func1()\n",
    "ob.func2()\n",
    "ob.func3()\n"
   ]
  },
  {
   "cell_type": "code",
   "execution_count": 75,
   "id": "a29fada6",
   "metadata": {},
   "outputs": [
    {
     "name": "stdout",
     "output_type": "stream",
     "text": [
      "yash sir teaches DBMS in computer science\n"
     ]
    }
   ],
   "source": [
    "class Teacher:\n",
    "    def __init__ (self,name,subject):\n",
    "            self.name = name\n",
    "            self.subject = subject\n",
    "    def show(self):\n",
    "        print(self.name,\"teaches\" , self.subject)\n",
    "T = Teacher('yash sir',\"DBMS in computer science\")    \n",
    "T.show()"
   ]
  },
  {
   "cell_type": "code",
   "execution_count": null,
   "id": "4629f694",
   "metadata": {},
   "outputs": [],
   "source": []
  }
 ],
 "metadata": {
  "kernelspec": {
   "display_name": "Python 3 (ipykernel)",
   "language": "python",
   "name": "python3"
  },
  "language_info": {
   "codemirror_mode": {
    "name": "ipython",
    "version": 3
   },
   "file_extension": ".py",
   "mimetype": "text/x-python",
   "name": "python",
   "nbconvert_exporter": "python",
   "pygments_lexer": "ipython3",
   "version": "3.9.12"
  }
 },
 "nbformat": 4,
 "nbformat_minor": 5
}
