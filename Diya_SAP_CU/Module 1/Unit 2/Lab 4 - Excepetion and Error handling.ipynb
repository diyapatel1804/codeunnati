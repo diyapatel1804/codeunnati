{
 "cells": [
  {
   "cell_type": "markdown",
   "id": "e390786e",
   "metadata": {},
   "source": [
    "# Lab 4 - Excepetion and Error handling\n"
   ]
  },
  {
   "cell_type": "markdown",
   "id": "c3d0ba7d",
   "metadata": {},
   "source": [
    "#  1 . Try block"
   ]
  },
  {
   "cell_type": "markdown",
   "id": "50004fbb",
   "metadata": {},
   "source": [
    "Example - 1"
   ]
  },
  {
   "cell_type": "code",
   "execution_count": 1,
   "id": "aa87819a",
   "metadata": {},
   "outputs": [
    {
     "name": "stdout",
     "output_type": "stream",
     "text": [
      "Here an exception occurred\n"
     ]
    }
   ],
   "source": [
    "try:\n",
    " print(x)\n",
    "except:\n",
    " print(\"Here an exception occurred\")"
   ]
  },
  {
   "cell_type": "markdown",
   "id": "e9475505",
   "metadata": {},
   "source": [
    "Example - 2"
   ]
  },
  {
   "cell_type": "code",
   "execution_count": 4,
   "id": "0ac0c4b0",
   "metadata": {},
   "outputs": [
    {
     "name": "stdout",
     "output_type": "stream",
     "text": [
      "yeah ! your name is : 1\n"
     ]
    }
   ],
   "source": [
    "def divide(x,y):\n",
    "    try:\n",
    "        result = x//y \n",
    "        print(\"yeah ! your name is :\" ,result)\n",
    "        \n",
    "    except ZeroDivisionError:\n",
    "        print(\"sorry ! you are dividing by zero\")\n",
    "        \n",
    "divide(3,2)"
   ]
  },
  {
   "cell_type": "markdown",
   "id": "701c3971",
   "metadata": {},
   "source": [
    "# 2 . Except block"
   ]
  },
  {
   "cell_type": "code",
   "execution_count": 6,
   "id": "9219feb8",
   "metadata": {},
   "outputs": [
    {
     "name": "stdout",
     "output_type": "stream",
     "text": [
      "sorry ! you are dividing by zero\n"
     ]
    }
   ],
   "source": [
    "def divide(x,y):\n",
    "    try:\n",
    "        result = x//y \n",
    "        print(\"yeah ! your name is :\" ,result)\n",
    "        \n",
    "    except ZeroDivisionError:\n",
    "        print(\"sorry ! you are dividing by zero\")\n",
    "        \n",
    "divide(3,0)"
   ]
  },
  {
   "cell_type": "markdown",
   "id": "aed9b782",
   "metadata": {},
   "source": [
    "# 3 . Try except block"
   ]
  },
  {
   "cell_type": "code",
   "execution_count": 8,
   "id": "42b8f226",
   "metadata": {},
   "outputs": [
    {
     "name": "stdout",
     "output_type": "stream",
     "text": [
      "-5.0\n",
      "a/b result in 0\n"
     ]
    }
   ],
   "source": [
    "def AbyB(a  ,  b):\n",
    "    try:\n",
    "        c = ((a+b)//(a-b))\n",
    "    except ZeroDivisionError:\n",
    "        print(\"a/b result in 0\")\n",
    "        \n",
    "    else:\n",
    "        print(c)\n",
    "        \n",
    "AbyB(2.0, 3.0)\n",
    "AbyB(3.0, 3.0)\n"
   ]
  },
  {
   "cell_type": "markdown",
   "id": "e1bdac51",
   "metadata": {},
   "source": [
    "# 4 . Finally block"
   ]
  },
  {
   "cell_type": "code",
   "execution_count": 16,
   "id": "fd9247c5",
   "metadata": {},
   "outputs": [
    {
     "name": "stdout",
     "output_type": "stream",
     "text": [
      "can't divide by zero\n",
      "This is always executed\n"
     ]
    }
   ],
   "source": [
    "try:\n",
    "    k=5/0\n",
    "    print(k)\n",
    "    \n",
    "except ZeroDivisionError:\n",
    "    print(\"can't divide by zero\")\n",
    "    \n",
    "finally:\n",
    "    \n",
    "    print('This is always executed')"
   ]
  },
  {
   "cell_type": "code",
   "execution_count": 15,
   "id": "fd8e95d6",
   "metadata": {},
   "outputs": [
    {
     "name": "stdout",
     "output_type": "stream",
     "text": [
      "Object `choo` not found.\n"
     ]
    }
   ],
   "source": [
    "import kem choo?"
   ]
  },
  {
   "cell_type": "code",
   "execution_count": 18,
   "id": "8bd79b78",
   "metadata": {},
   "outputs": [
    {
     "data": {
      "text/plain": [
       "'22'"
      ]
     },
     "execution_count": 18,
     "metadata": {},
     "output_type": "execute_result"
    }
   ],
   "source": [
    "'2' +  '2'"
   ]
  }
 ],
 "metadata": {
  "kernelspec": {
   "display_name": "Python 3 (ipykernel)",
   "language": "python",
   "name": "python3"
  },
  "language_info": {
   "codemirror_mode": {
    "name": "ipython",
    "version": 3
   },
   "file_extension": ".py",
   "mimetype": "text/x-python",
   "name": "python",
   "nbconvert_exporter": "python",
   "pygments_lexer": "ipython3",
   "version": "3.9.12"
  }
 },
 "nbformat": 4,
 "nbformat_minor": 5
}
