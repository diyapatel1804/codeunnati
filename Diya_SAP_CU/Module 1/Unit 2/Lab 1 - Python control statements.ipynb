{
 "cells": [
  {
   "cell_type": "markdown",
   "id": "51465004",
   "metadata": {},
   "source": [
    "# Lab 1 - Python Control Statements"
   ]
  },
  {
   "cell_type": "markdown",
   "id": "023df721",
   "metadata": {},
   "source": [
    "# if ,else, elif statement"
   ]
  },
  {
   "cell_type": "code",
   "execution_count": 1,
   "id": "9f3d3c86",
   "metadata": {},
   "outputs": [
    {
     "name": "stdout",
     "output_type": "stream",
     "text": [
      "yes,Its True..!\n"
     ]
    }
   ],
   "source": [
    "if True:\n",
    "    print(\"yes,Its True..!\")"
   ]
  },
  {
   "cell_type": "code",
   "execution_count": 4,
   "id": "393d4324",
   "metadata": {},
   "outputs": [
    {
     "name": "stdout",
     "output_type": "stream",
     "text": [
      "its FALSE\n"
     ]
    }
   ],
   "source": [
    " x= False\n",
    " if x:\n",
    "    print(\"yes,Its True..!\")\n",
    " else:\n",
    "        print(\"its FALSE\")"
   ]
  },
  {
   "cell_type": "code",
   "execution_count": 5,
   "id": "425b3f0d",
   "metadata": {},
   "outputs": [
    {
     "name": "stdout",
     "output_type": "stream",
     "text": [
      "x is less than 16\n"
     ]
    }
   ],
   "source": [
    "X=20\n",
    "if x<16:\n",
    "    print(\"x is less than 16\")\n",
    "else: \n",
    "    print(\"x is greater than 16\")\n",
    "    \n"
   ]
  },
  {
   "cell_type": "code",
   "execution_count": 13,
   "id": "90e6641c",
   "metadata": {},
   "outputs": [
    {
     "name": "stdout",
     "output_type": "stream",
     "text": [
      "welcome to Surat \n"
     ]
    }
   ],
   "source": [
    "city = \"Surat\"\n",
    "\n",
    "if city == \"baroda\":\n",
    "    print(\"welcome to baroda\")\n",
    "elif city == \"ahemedabad\":\n",
    "    print(\"welcome to ahemedabad\")\n",
    "elif city == \"Surat\":\n",
    "    print(\"welcome to Surat \")    \n",
    "else:\n",
    "    print(\"welcome to my home \")    \n",
    "    "
   ]
  },
  {
   "cell_type": "markdown",
   "id": "70747c7b",
   "metadata": {},
   "source": [
    "# While loop\n",
    "\n"
   ]
  },
  {
   "cell_type": "code",
   "execution_count": 15,
   "id": "aca1d509",
   "metadata": {},
   "outputs": [
    {
     "name": "stdout",
     "output_type": "stream",
     "text": [
      "0\n",
      "1\n",
      "2\n",
      "3\n",
      "4\n",
      "5\n",
      "6\n",
      "7\n",
      "8\n",
      "9\n",
      "10\n"
     ]
    }
   ],
   "source": [
    "i= 0\n",
    "n= 10\n",
    "\n",
    "while i<=10:\n",
    "    print(i)\n",
    "    i += 1"
   ]
  },
  {
   "cell_type": "code",
   "execution_count": 14,
   "id": "fbe07e4b",
   "metadata": {},
   "outputs": [
    {
     "name": "stdout",
     "output_type": "stream",
     "text": [
      "the count is: 0\n",
      " Good bye!\n",
      "the count is: 1\n",
      " Good bye!\n",
      "the count is: 2\n",
      " Good bye!\n",
      "the count is: 3\n",
      " Good bye!\n",
      "the count is: 4\n",
      " Good bye!\n",
      "the count is: 5\n",
      " Good bye!\n",
      "the count is: 6\n",
      " Good bye!\n",
      "the count is: 7\n",
      " Good bye!\n",
      "the count is: 8\n",
      " Good bye!\n"
     ]
    }
   ],
   "source": [
    "count = 0\n",
    "while (count < 9):\n",
    "    print('the count is:',count)\n",
    "    count = count + 1\n",
    "    print(\" Good bye!\")"
   ]
  },
  {
   "cell_type": "markdown",
   "id": "9e1ffdc3",
   "metadata": {},
   "source": [
    "# For Loop"
   ]
  },
  {
   "cell_type": "code",
   "execution_count": 16,
   "id": "c075f49e",
   "metadata": {},
   "outputs": [
    {
     "name": "stdout",
     "output_type": "stream",
     "text": [
      "1\n",
      "2\n",
      "3\n",
      "4\n",
      "5\n",
      "6\n",
      "7\n",
      "8\n",
      "9\n",
      "10\n"
     ]
    }
   ],
   "source": [
    "lst = [1,2,3,4,5,6,7,8,9,10]\n",
    "for i in lst:\n",
    "    print(i)"
   ]
  },
  {
   "cell_type": "code",
   "execution_count": 17,
   "id": "29ae80df",
   "metadata": {},
   "outputs": [
    {
     "name": "stdout",
     "output_type": "stream",
     "text": [
      "1\n",
      "2\n",
      "3\n",
      "4\n",
      "5\n",
      "6\n",
      "7\n",
      "8\n",
      "9\n"
     ]
    }
   ],
   "source": [
    "for i in range(1,10):\n",
    "    print(i)"
   ]
  },
  {
   "cell_type": "code",
   "execution_count": 20,
   "id": "14622e0f",
   "metadata": {},
   "outputs": [
    {
     "name": "stdout",
     "output_type": "stream",
     "text": [
      "D\n",
      "I\n",
      "Y\n",
      "A\n"
     ]
    }
   ],
   "source": [
    "for letter in 'DIYA':\n",
    "    print(letter)"
   ]
  },
  {
   "cell_type": "code",
   "execution_count": 22,
   "id": "66b5c9f6",
   "metadata": {},
   "outputs": [
    {
     "name": "stdout",
     "output_type": "stream",
     "text": [
      "apple\n",
      "banana\n",
      "grapes\n",
      "cherry\n"
     ]
    }
   ],
   "source": [
    "fruits = ['apple','banana','grapes','cherry']\n",
    "for fruit in fruits:\n",
    "    print(fruit)"
   ]
  },
  {
   "cell_type": "code",
   "execution_count": 27,
   "id": "f1d8bd2d",
   "metadata": {},
   "outputs": [
    {
     "name": "stdout",
     "output_type": "stream",
     "text": [
      "2\n",
      "4\n",
      "6\n",
      "8\n",
      "10\n"
     ]
    }
   ],
   "source": [
    "lst = [1,2,3,4,5,6,7,8,9,10]\n",
    "for i in lst:\n",
    "    if i%2 ==0:\n",
    "         print(i)"
   ]
  },
  {
   "cell_type": "code",
   "execution_count": 28,
   "id": "fbf623d3",
   "metadata": {},
   "outputs": [
    {
     "name": "stdout",
     "output_type": "stream",
     "text": [
      "1\n",
      "3\n",
      "5\n",
      "7\n",
      "9\n"
     ]
    }
   ],
   "source": [
    "lst = [1,2,3,4,5,6,7,8,9,10]\n",
    "for i in lst:\n",
    "    if i%2 ==1:\n",
    "         print(i)"
   ]
  },
  {
   "cell_type": "code",
   "execution_count": 33,
   "id": "469c29d2",
   "metadata": {},
   "outputs": [
    {
     "name": "stdout",
     "output_type": "stream",
     "text": [
      "1 is odd number\n",
      "2 is even number\n",
      "3 is odd number\n",
      "4 is even number\n",
      "5 is odd number\n",
      "6 is even number\n",
      "7 is odd number\n",
      "8 is even number\n",
      "9 is odd number\n",
      "10 is even number\n"
     ]
    }
   ],
   "source": [
    "lst = [1,2,3,4,5,6,7,8,9,10]\n",
    "for i in lst:\n",
    "    if i%2 ==0:\n",
    "         print('{} is even number'.format(i))\n",
    "    else:\n",
    "         print('{} is odd number'.format(i))"
   ]
  },
  {
   "cell_type": "code",
   "execution_count": 34,
   "id": "2810309d",
   "metadata": {},
   "outputs": [
    {
     "data": {
      "text/plain": [
       "[0, 1, 4, 9, 16, 25, 36, 49, 64, 81, 100]"
      ]
     },
     "execution_count": 34,
     "metadata": {},
     "output_type": "execute_result"
    }
   ],
   "source": [
    "sqr_lst = [x**2 for x in range(0,11)]\n",
    "sqr_lst"
   ]
  }
 ],
 "metadata": {
  "kernelspec": {
   "display_name": "Python 3 (ipykernel)",
   "language": "python",
   "name": "python3"
  },
  "language_info": {
   "codemirror_mode": {
    "name": "ipython",
    "version": 3
   },
   "file_extension": ".py",
   "mimetype": "text/x-python",
   "name": "python",
   "nbconvert_exporter": "python",
   "pygments_lexer": "ipython3",
   "version": "3.9.12"
  }
 },
 "nbformat": 4,
 "nbformat_minor": 5
}
